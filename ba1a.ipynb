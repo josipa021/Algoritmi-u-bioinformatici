{
  "nbformat": 4,
  "nbformat_minor": 0,
  "metadata": {
    "colab": {
      "name": "ba1a.ipynb",
      "provenance": [],
      "authorship_tag": "ABX9TyPqyFANCSw5eTKhk6QgP48Q"
    },
    "kernelspec": {
      "name": "python3",
      "display_name": "Python 3"
    },
    "language_info": {
      "name": "python"
    }
  },
  "cells": [
    {
      "cell_type": "markdown",
      "source": [
        "Counting words\n"
      ],
      "metadata": {
        "id": "baWb0v56LIEg"
      }
    },
    {
      "cell_type": "code",
      "execution_count": 18,
      "metadata": {
        "id": "Y-Wjen1mK6iq"
      },
      "outputs": [],
      "source": [
        "def PatternCount(pattern,text):\n",
        "  count=0\n",
        "  for i in range(0,len(text)-len(pattern)+1):\n",
        "    if(text[i:i+len(pattern)]==pattern):\n",
        "      count=count+1\n",
        "  return count"
      ]
    },
    {
      "cell_type": "code",
      "source": [
        "pattern=''\n",
        "text=''"
      ],
      "metadata": {
        "id": "e7x9dAavL0uY"
      },
      "execution_count": 20,
      "outputs": []
    },
    {
      "cell_type": "code",
      "source": [
        "PatternCount(pattern,text)"
      ],
      "metadata": {
        "colab": {
          "base_uri": "https://localhost:8080/"
        },
        "id": "qF9qrgNZMJn9",
        "outputId": "953570ea-82bc-47cc-a0d5-d0534391764b"
      },
      "execution_count": 21,
      "outputs": [
        {
          "output_type": "execute_result",
          "data": {
            "text/plain": [
              "31"
            ]
          },
          "metadata": {},
          "execution_count": 21
        }
      ]
    }
  ]
}